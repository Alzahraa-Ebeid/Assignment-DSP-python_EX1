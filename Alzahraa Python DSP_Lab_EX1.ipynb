{
 "cells": [
  {
   "cell_type": "code",
   "execution_count": 3,
   "metadata": {},
   "outputs": [
    {
     "name": "stdout",
     "output_type": "stream",
     "text": [
      "Enter A: hello\n",
      "Enter B: hello\n",
      "string involved\n",
      "A equal B\n"
     ]
    }
   ],
   "source": [
    "A = str(input(\"Enter A: \"))\n",
    "B = str(input(\"Enter B: \"))\n",
    "if A == 'hello' or B == 'hello':\n",
    "    print(\"string involved\")\n",
    "if A > B:\n",
    "    print(\"A bigger than B\")\n",
    "elif A == B:\n",
    "    print(\"A equal B\")\n",
    "else:\n",
    "    print(\"A smaller than B\")\n",
    "    print(\"Mohamed soffar\")\n",
    "    print(\"thanks!\")"
   ]
  },
  {
   "cell_type": "code",
   "execution_count": 1,
   "metadata": {},
   "outputs": [
    {
     "name": "stdout",
     "output_type": "stream",
     "text": [
      "Hello!\n",
      "10\n",
      "8\n",
      "6\n",
      "4\n",
      "2\n"
     ]
    }
   ],
   "source": [
    "print('Hello!')\n",
    "i = 10\n",
    "while(i<=10):\n",
    "    if(i==2):\n",
    "        print(i)\n",
    "        break\n",
    "    print(i)\n",
    "    i -= 2"
   ]
  },
  {
   "cell_type": "code",
   "execution_count": 4,
   "metadata": {},
   "outputs": [
    {
     "name": "stdout",
     "output_type": "stream",
     "text": [
      "result: 21\n"
     ]
    }
   ],
   "source": [
    "end=7\n",
    "result = 0\n",
    "i = 0\n",
    "while i <= end:\n",
    "    result += i\n",
    "    i += 1\n",
    "print(\"result:\",result)\n"
   ]
  },
  {
   "cell_type": "code",
   "execution_count": 5,
   "metadata": {},
   "outputs": [
    {
     "name": "stdout",
     "output_type": "stream",
     "text": [
      "Hello!\n",
      "10\n",
      "8\n",
      "6\n",
      "4\n",
      "2\n"
     ]
    }
   ],
   "source": [
    "print('Hello!')\n",
    "for i in range(10, 0, -2):\n",
    "    print(i)\n"
   ]
  },
  {
   "cell_type": "code",
   "execution_count": 12,
   "metadata": {},
   "outputs": [
    {
     "name": "stdout",
     "output_type": "stream",
     "text": [
      "21\n"
     ]
    }
   ],
   "source": [
    "result = end\n",
    "for i in range(end):\n",
    "    result += i\n",
    "print(result)"
   ]
  },
  {
   "cell_type": "code",
   "execution_count": 1,
   "metadata": {},
   "outputs": [
    {
     "ename": "SyntaxError",
     "evalue": "unmatched ')' (<ipython-input-1-eb9d5be428db>, line 2)",
     "output_type": "error",
     "traceback": [
      "\u001b[1;36m  File \u001b[1;32m\"<ipython-input-1-eb9d5be428db>\"\u001b[1;36m, line \u001b[1;32m2\u001b[0m\n\u001b[1;33m    a)\u001b[0m\n\u001b[1;37m     ^\u001b[0m\n\u001b[1;31mSyntaxError\u001b[0m\u001b[1;31m:\u001b[0m unmatched ')'\n"
     ]
    }
   ],
   "source": [
    "q5 \n",
    "a)\n",
    "10\n",
    "Outside of loop\n",
    "9\n",
    "Outside of loop\n",
    "8\n",
    "Outside of loop\n",
    "7\n",
    "Outside of loop\n",
    "Breaking out of loop\n",
    "b)\n",
    "Infinite loop\n",
    "c)\n",
    "0\n",
    "Foo!\n",
    "4\n",
    "8\n",
    "12\n",
    "16\n",
    "Foo!\n",
    "d)\n",
    "letter # 0 is S\n",
    "1\n",
    "e)\n",
    "H\n",
    "e\n",
    "e\n",
    "l\n",
    "l\n",
    "l\n",
    "o\n",
    "!\n",
    "!\n",
    "done\n",
    "f)\n",
    "\n",
    " How many times does H print out? (1 time) \n",
    "• How many times does e print out? Disregard the letters in the word done. (2 times)\n",
    "• How many times does l print out?  (3 times)\n",
    "• How many times does o print out? Disregard the letters in the word done.  (1 time)\n",
    "• How many times does ! print out? (2 times)\n",
    "• How many times does done print out? (1 time)\n"
   ]
  },
  {
   "cell_type": "code",
   "execution_count": 17,
   "metadata": {},
   "outputs": [
    {
     "name": "stdout",
     "output_type": "stream",
     "text": [
      "number of times bob occurs is : 2\n"
     ]
    }
   ],
   "source": [
    "s='azcbobobegghakl'\n",
    "def counting_bobs(s):\n",
    "    i=0\n",
    "    count=0\n",
    "    for i in range(0,len(s)):\n",
    "        if s[i:(i+3)] ==\"bob\":\n",
    "            count +=1\n",
    "    print(\"number of times bob occurs is : %s\" % count )\n",
    "counting_bobs(s)"
   ]
  },
  {
   "cell_type": "code",
   "execution_count": null,
   "metadata": {},
   "outputs": [],
   "source": [
    "q(8)\n",
    "Output\n",
    "Iteration 0; count is: 1\n",
    "Iteration 1; count is: 12\n",
    "Iteration 2; count is: 1\n",
    "Iteration 3; count is: 12\n",
    "Iteration 4; count is: 1 \n",
    "    \n",
    "How many times will the print statement be executed? 5\n",
    "What is the largest value of the variable iteration that will be printed out (at\n",
    "the print statement)? 4\n",
    "What is the largest value of the variable count that will be printed out (at the\n",
    "print statement)? 12\n",
    "What is the smallest value of the variable count that will be printed out (at the\n",
    "print statement)? 1"
   ]
  },
  {
   "cell_type": "code",
   "execution_count": 18,
   "metadata": {},
   "outputs": [
    {
     "name": "stdout",
     "output_type": "stream",
     "text": [
      "Please think of a number between 0 and 100!\n",
      "Is your secret number  50 ?\n"
     ]
    },
    {
     "name": "stdin",
     "output_type": "stream",
     "text": [
      "Enter 'h' to indicate the guess is too high. Enter 'l' to indicate the guess is too low. Enter 'c' to indicate I guessed correctly. h\n"
     ]
    },
    {
     "name": "stdout",
     "output_type": "stream",
     "text": [
      "Is your secret number  25 ?\n"
     ]
    },
    {
     "name": "stdin",
     "output_type": "stream",
     "text": [
      "Enter 'h' to indicate the guess is too high. Enter 'l' to indicate the guess is too low. Enter 'c' to indicate I guessed correctly. h\n"
     ]
    },
    {
     "name": "stdout",
     "output_type": "stream",
     "text": [
      "Is your secret number  12 ?\n"
     ]
    },
    {
     "name": "stdin",
     "output_type": "stream",
     "text": [
      "Enter 'h' to indicate the guess is too high. Enter 'l' to indicate the guess is too low. Enter 'c' to indicate I guessed correctly. l\n"
     ]
    },
    {
     "name": "stdout",
     "output_type": "stream",
     "text": [
      "Is your secret number  18 ?\n"
     ]
    },
    {
     "name": "stdin",
     "output_type": "stream",
     "text": [
      "Enter 'h' to indicate the guess is too high. Enter 'l' to indicate the guess is too low. Enter 'c' to indicate I guessed correctly. h\n"
     ]
    },
    {
     "name": "stdout",
     "output_type": "stream",
     "text": [
      "Is your secret number  15 ?\n"
     ]
    },
    {
     "name": "stdin",
     "output_type": "stream",
     "text": [
      "Enter 'h' to indicate the guess is too high. Enter 'l' to indicate the guess is too low. Enter 'c' to indicate I guessed correctly. l\n"
     ]
    },
    {
     "name": "stdout",
     "output_type": "stream",
     "text": [
      "Is your secret number  16 ?\n"
     ]
    },
    {
     "name": "stdin",
     "output_type": "stream",
     "text": [
      "Enter 'h' to indicate the guess is too high. Enter 'l' to indicate the guess is too low. Enter 'c' to indicate I guessed correctly. l\n"
     ]
    },
    {
     "name": "stdout",
     "output_type": "stream",
     "text": [
      "Is your secret number  17 ?\n"
     ]
    },
    {
     "name": "stdin",
     "output_type": "stream",
     "text": [
      "Enter 'h' to indicate the guess is too high. Enter 'l' to indicate the guess is too low. Enter 'c' to indicate I guessed correctly. h\n"
     ]
    },
    {
     "name": "stdout",
     "output_type": "stream",
     "text": [
      "Is your secret number  16 ?\n"
     ]
    },
    {
     "name": "stdin",
     "output_type": "stream",
     "text": [
      "Enter 'h' to indicate the guess is too high. Enter 'l' to indicate the guess is too low. Enter 'c' to indicate I guessed correctly. h\n"
     ]
    },
    {
     "name": "stdout",
     "output_type": "stream",
     "text": [
      "Is your secret number  16 ?\n"
     ]
    },
    {
     "name": "stdin",
     "output_type": "stream",
     "text": [
      "Enter 'h' to indicate the guess is too high. Enter 'l' to indicate the guess is too low. Enter 'c' to indicate I guessed correctly. h\n"
     ]
    },
    {
     "name": "stdout",
     "output_type": "stream",
     "text": [
      "Is your secret number  16 ?\n"
     ]
    },
    {
     "name": "stdin",
     "output_type": "stream",
     "text": [
      "Enter 'h' to indicate the guess is too high. Enter 'l' to indicate the guess is too low. Enter 'c' to indicate I guessed correctly. l\n"
     ]
    },
    {
     "name": "stdout",
     "output_type": "stream",
     "text": [
      "Is your secret number  16 ?\n"
     ]
    },
    {
     "name": "stdin",
     "output_type": "stream",
     "text": [
      "Enter 'h' to indicate the guess is too high. Enter 'l' to indicate the guess is too low. Enter 'c' to indicate I guessed correctly. l\n"
     ]
    },
    {
     "name": "stdout",
     "output_type": "stream",
     "text": [
      "Is your secret number  16 ?\n"
     ]
    },
    {
     "name": "stdin",
     "output_type": "stream",
     "text": [
      "Enter 'h' to indicate the guess is too high. Enter 'l' to indicate the guess is too low. Enter 'c' to indicate I guessed correctly. l\n"
     ]
    },
    {
     "name": "stdout",
     "output_type": "stream",
     "text": [
      "Is your secret number  16 ?\n"
     ]
    },
    {
     "name": "stdin",
     "output_type": "stream",
     "text": [
      "Enter 'h' to indicate the guess is too high. Enter 'l' to indicate the guess is too low. Enter 'c' to indicate I guessed correctly. c\n"
     ]
    },
    {
     "name": "stdout",
     "output_type": "stream",
     "text": [
      "Game over. Your secret number was: 16\n"
     ]
    }
   ],
   "source": [
    "print(\"Please think of a number between 0 and 100!\")\n",
    "low = 0\n",
    "high = 100\n",
    "correct = False\n",
    "\n",
    "while not correct:\n",
    "    guess = int(low + (high - low)/2)\n",
    "    print(\"Is your secret number \", guess, \"?\")\n",
    "    hint = str(input(\"Enter 'h' to indicate the guess is too high. Enter 'l' to indicate the guess is too low. Enter 'c' to indicate I guessed correctly.\"))\n",
    "    if hint == \"c\":\n",
    "        print(\"Game over. Your secret number was: \" + str(guess))\n",
    "        correct = True\n",
    "    elif hint == \"h\":\n",
    "        high = guess\n",
    "    elif hint == \"l\":\n",
    "        low = guess\n",
    "    else:\n",
    "        print(\"Sorry, I did not understand your input.\")"
   ]
  },
  {
   "cell_type": "code",
   "execution_count": null,
   "metadata": {},
   "outputs": [],
   "source": [
    "a)\n",
    "4\n",
    "b)\n",
    "19"
   ]
  },
  {
   "cell_type": "code",
   "execution_count": 22,
   "metadata": {},
   "outputs": [
    {
     "name": "stdout",
     "output_type": "stream",
     "text": [
      "2\n",
      "6\n",
      "3\n",
      "1\n"
     ]
    }
   ],
   "source": [
    "def gcdIter(a, b):\n",
    "    num = a\n",
    "    if b < num:\n",
    "        num = b\n",
    "    while num > 1:\n",
    "        if a % num == 0 and b % num == 0:\n",
    "            break\n",
    "        num -= 1\n",
    "    return num\n",
    "print(gcdIter(2, 12))\n",
    "print(gcdIter(6, 12))\n",
    "print(gcdIter(9, 12))\n",
    "print(gcdIter(17, 12))"
   ]
  },
  {
   "cell_type": "code",
   "execution_count": 1,
   "metadata": {},
   "outputs": [
    {
     "name": "stdout",
     "output_type": "stream",
     "text": [
      "3\n"
     ]
    }
   ],
   "source": [
    "givenTuple = (2, 4, 5, 6, 2, 3, 4, 4, 7)\n",
    "def countRepeated(givenTuple):\n",
    "    count = 0\n",
    "    for i in range(len(givenTuple)):\n",
    "        if givenTuple[i] in givenTuple[i+1:] :\n",
    "            count+= 1\n",
    "    return count\n",
    "print(countRepeated(givenTuple))"
   ]
  },
  {
   "cell_type": "code",
   "execution_count": 3,
   "metadata": {},
   "outputs": [
    {
     "name": "stdout",
     "output_type": "stream",
     "text": [
      "1\n",
      "None\n"
     ]
    }
   ],
   "source": [
    "List1 = [1, 0, 1, 0, 0, 0, 2, -2, -2]\n",
    "List2 = [2, 2]\n",
    "def findSecondLargest(givenList):\n",
    "    largest = max(givenList)\n",
    "    secondLargest = givenList[0]\n",
    "    count = 0\n",
    "    for item in givenList:\n",
    "        if item < largest:\n",
    "            if item >= secondLargest:\n",
    "                count += 1 \n",
    "                secondLargest = item\n",
    "    return secondLargest if count > 0 else None\n",
    "print(findSecondLargest(List1))\n",
    "print(findSecondLargest(List2))\n"
   ]
  },
  {
   "cell_type": "code",
   "execution_count": 4,
   "metadata": {},
   "outputs": [
    {
     "name": "stdout",
     "output_type": "stream",
     "text": [
      "[40, 10, 80, 50, 20, 60, 30]\n"
     ]
    }
   ],
   "source": [
    "List3 = [10, 20, 30, 20, 10, 50, 60, 40, 80, 50, 40]\n",
    "removeDuplicate=set(List3)\n",
    "print(list(removeDuplicate))"
   ]
  },
  {
   "cell_type": "code",
   "execution_count": 5,
   "metadata": {},
   "outputs": [
    {
     "name": "stdout",
     "output_type": "stream",
     "text": [
      "6\n"
     ]
    }
   ],
   "source": [
    "List4 = [10, 20, 30, 40, 40, 40, 70, 80, 99]\n",
    "def countInRange(givenList, lower, upper):\n",
    "    count = 0\n",
    "    for item in givenList:\n",
    "        if item >= lower and item<= upper:\n",
    "            count += 1\n",
    "    return count\n",
    "print(countInRange(List4,40,100))"
   ]
  },
  {
   "cell_type": "code",
   "execution_count": 6,
   "metadata": {},
   "outputs": [
    {
     "name": "stdout",
     "output_type": "stream",
     "text": [
      "[[ 1  2  3  4  5]\n",
      " [ 6  7  8  9 10]\n",
      " [11 12 13 14 15]\n",
      " [16 17 18 19 20]]\n",
      "[[ 6  7  8  9 10]\n",
      " [16 17 18 19 20]]\n"
     ]
    }
   ],
   "source": [
    "import numpy as np\n",
    "arr = np.arange(start = 1,stop = 21,step = 1)\n",
    "arr = np.reshape(arr,(4,5))\n",
    "arrr =np.array([list(arr[1,:]),list(arr[3,:])])\n",
    "print(arr)\n",
    "print(arrr)"
   ]
  },
  {
   "cell_type": "code",
   "execution_count": 3,
   "metadata": {},
   "outputs": [
    {
     "name": "stdout",
     "output_type": "stream",
     "text": [
      "[[ 1  3  5  7  9]\n",
      " [11 13 15 17 19]]\n"
     ]
    }
   ],
   "source": [
    "import numpy as np\n",
    "odda = np.arange(start = 1,stop = 21,step = 2).reshape((2,5))\n",
    "print(odda)"
   ]
  },
  {
   "cell_type": "code",
   "execution_count": 1,
   "metadata": {},
   "outputs": [
    {
     "name": "stdout",
     "output_type": "stream",
     "text": [
      "[[ 1  2  3]\n",
      " [ 4  5  6]\n",
      " [ 7  8  9]\n",
      " [10 11 12]]\n",
      "rowsum: [ 6 15 24 33]\n",
      "columnsum: [22 26 30]\n"
     ]
    }
   ],
   "source": [
    "import numpy as np\n",
    "arr = np.arange(start = 1,stop = 13,step = 1).reshape((4,3))\n",
    "print(arr)\n",
    "rowsum = np.sum(arr,axis=1)\n",
    "print(\"rowsum:\",rowsum)\n",
    "columnsum = np.sum(arr,axis=0)\n",
    "print(\"columnsum:\",columnsum)"
   ]
  },
  {
   "cell_type": "code",
   "execution_count": 9,
   "metadata": {},
   "outputs": [
    {
     "name": "stdout",
     "output_type": "stream",
     "text": [
      "[[0.40342507 0.45078998 0.3481178 ]\n",
      " [0.30529346 0.45135254 0.28939257]\n",
      " [0.15729297 0.30044058 0.1310485 ]]\n"
     ]
    }
   ],
   "source": [
    "import numpy as np\n",
    "arr = [[0.89372503,0.99865458,0.77120044],\n",
    "[0.67632984,0.99990084,0.64110391],\n",
    "[0.34845794,0.66557903,0.29031742]]\n",
    "arr = np.array(arr)\n",
    "norm = np.linalg.norm(arr)\n",
    "normal = arr/norm\n",
    "print(normal)"
   ]
  },
  {
   "cell_type": "code",
   "execution_count": 10,
   "metadata": {},
   "outputs": [
    {
     "name": "stdout",
     "output_type": "stream",
     "text": [
      "[[1. 1. 1. 1.]\n",
      " [1. 0. 0. 1.]\n",
      " [1. 0. 0. 1.]\n",
      " [1. 1. 1. 1.]]\n"
     ]
    }
   ],
   "source": [
    "import numpy as np\n",
    "arr = np.ones((4,4))\n",
    "arr[1:-1,1:-1] = 0\n",
    "print(arr)"
   ]
  },
  {
   "cell_type": "code",
   "execution_count": null,
   "metadata": {},
   "outputs": [],
   "source": []
  },
  {
   "cell_type": "code",
   "execution_count": null,
   "metadata": {},
   "outputs": [],
   "source": []
  }
 ],
 "metadata": {
  "kernelspec": {
   "display_name": "Python 3 (ipykernel)",
   "language": "python",
   "name": "python3"
  },
  "language_info": {
   "codemirror_mode": {
    "name": "ipython",
    "version": 3
   },
   "file_extension": ".py",
   "mimetype": "text/x-python",
   "name": "python",
   "nbconvert_exporter": "python",
   "pygments_lexer": "ipython3",
   "version": "3.9.7"
  }
 },
 "nbformat": 4,
 "nbformat_minor": 4
}
